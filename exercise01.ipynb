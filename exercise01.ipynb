{
 "cells": [
  {
   "cell_type": "markdown",
   "metadata": {},
   "source": [
    "# Exercise 1\n",
    "In this exercise a feed-forward neural network will be implemented.\n",
    "<br>\n",
    "<center>\n",
    "<div style=\"display:inline-block;text-align:center\">\n",
    "<img src=\"nn_architecture.png\" width=\"300px\"/>\n",
    "<span style=\"display:block\">Figure 1: The architecture of the network implemented in this exercise</span>\n",
    "</div>\n",
    "</center>\n",
    "<br>\n",
    "We follow an object-oriented approach in this exercise."
   ]
  },
  {
   "cell_type": "markdown",
   "metadata": {},
   "source": [
    "## Initialization"
   ]
  },
  {
   "cell_type": "code",
   "execution_count": 1,
   "metadata": {},
   "outputs": [],
   "source": [
    "import numpy as np"
   ]
  },
  {
   "cell_type": "markdown",
   "metadata": {},
   "source": [
    "## Definition of the Model"
   ]
  },
  {
   "cell_type": "code",
   "execution_count": 2,
   "metadata": {},
   "outputs": [],
   "source": [
    "class NeuralNetwork:\n",
    "    \n",
    "    def __init__(self, x, num_hidden, y, **kwargs):\n",
    "        self.input = x\n",
    "        if \"weights\" in kwargs and isinstance(kwargs['weights'], list) and len(kwargs['weights']) == num_hidden:\n",
    "            self.weights = kwargs['weights']\n",
    "        else:\n",
    "            self.weights = []\n",
    "            if num_hidden == 1:\n",
    "                \n",
    "            for i in range(num_hidden - 1):\n",
    "                weights.append(np.random.rand())\n",
    "                    "
   ]
  },
  {
   "cell_type": "code",
   "execution_count": 10,
   "metadata": {},
   "outputs": [
    {
     "name": "stdout",
     "output_type": "stream",
     "text": [
      "[1, 3, 3]\n"
     ]
    }
   ],
   "source": [
    "NeuralNetwork(1, 2, 3, weights = [1, 3, 3])\n",
    "\n",
    "for i in range(0):\n",
    "    print(i)"
   ]
  },
  {
   "cell_type": "code",
   "execution_count": null,
   "metadata": {},
   "outputs": [],
   "source": []
  }
 ],
 "metadata": {
  "kernelspec": {
   "display_name": "Python 3",
   "language": "python",
   "name": "python3"
  },
  "language_info": {
   "codemirror_mode": {
    "name": "ipython",
    "version": 3
   },
   "file_extension": ".py",
   "mimetype": "text/x-python",
   "name": "python",
   "nbconvert_exporter": "python",
   "pygments_lexer": "ipython3",
   "version": "3.6.5"
  }
 },
 "nbformat": 4,
 "nbformat_minor": 2
}
